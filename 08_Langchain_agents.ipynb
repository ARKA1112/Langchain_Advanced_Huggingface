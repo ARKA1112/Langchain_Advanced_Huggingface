{
 "cells": [
  {
   "cell_type": "code",
   "execution_count": null,
   "metadata": {},
   "outputs": [],
   "source": [
    "from langchain import OpenAI\n",
    "import os\n",
    "from dotenv import load_dotenv\n",
    "load_dotenv()\n",
    "\n",
    "llm = OpenAI(\n",
    "    openai_api_base=os.environ['OPENAI_REVERSE_PROXY'],\n",
    "    openai_api_key=os.environ['OPENAI_API_KEY'],\n",
    "    temperature=0,\n",
    "    model_name='text-davinci-003'\n",
    ")"
   ]
  },
  {
   "cell_type": "code",
   "execution_count": null,
   "metadata": {},
   "outputs": [],
   "source": [
    "# Next we wiil initialize a calculator tool using an LLMMathChain\n",
    "\n",
    "from langchain.chains import LLMMathChain, LLMChain\n",
    "from langchain.agents import Tool\n",
    "\n",
    "llm_math = LLMMathChain.from_llm(llm=llm, verbose=True)\n",
    "\n",
    "\n",
    "\n",
    "#intitialize the math tool\n",
    "\n",
    "math_tool = Tool(\n",
    "    name='calculator',\n",
    "    func=llm_math.run,\n",
    "    description=\"Userful for when you need to answer questions about math\"\n",
    ")\n",
    "\n",
    "# When giving tools to LLM, we must pass as list of tools\n",
    "\n",
    "tools = [math_tool]"
   ]
  },
  {
   "cell_type": "code",
   "execution_count": null,
   "metadata": {},
   "outputs": [],
   "source": [
    "tools[0].name, tools[0].description"
   ]
  },
  {
   "cell_type": "code",
   "execution_count": null,
   "metadata": {},
   "outputs": [],
   "source": [
    "from langchain.agents import load_tools\n",
    "\n",
    "tools = load_tools(['llm-math'],llm=llm)"
   ]
  },
  {
   "cell_type": "code",
   "execution_count": null,
   "metadata": {},
   "outputs": [],
   "source": [
    "from langchain.agents import initialize_agent\n",
    "\n",
    "zero_shot_agent = initialize_agent(\n",
    "    agent=\"zero-shot-react-description\",\n",
    "    tools = tools, \n",
    "    llm = llm,\n",
    "    verbose= True,\n",
    "    max_iterations = 3\n",
    ")"
   ]
  },
  {
   "cell_type": "code",
   "execution_count": null,
   "metadata": {},
   "outputs": [],
   "source": [
    "zero_shot_agent(\"what is (4.5*2.1)^2.2?\")"
   ]
  },
  {
   "cell_type": "code",
   "execution_count": null,
   "metadata": {},
   "outputs": [],
   "source": [
    "(4.5*2.1)**2.2"
   ]
  },
  {
   "cell_type": "code",
   "execution_count": null,
   "metadata": {},
   "outputs": [],
   "source": [
    "# Lets try this with zero shot agent\n",
    "zero_shot_agent(\"if Mary has four apples and Giorgio brings two and a half apple \"\n",
    "                \"boxes (apple box contains eight apples), how many apples do we \"\n",
    "                \"have?\")"
   ]
  },
  {
   "cell_type": "code",
   "execution_count": null,
   "metadata": {},
   "outputs": [],
   "source": [
    "# But what happens when we ask it a question from non math\n",
    "\n",
    "zero_shot_agent(\"what is the capital of Norway?\")\n",
    "\n",
    "\n",
    "#Clearly calculator wont work for this\n",
    "#Because the agent is forcing us to use the calculator tool which is not applicable at all      "
   ]
  },
  {
   "cell_type": "code",
   "execution_count": null,
   "metadata": {},
   "outputs": [],
   "source": [
    "# So as a workaround we can implement is to just add another tool that can answer this question\n",
    "\n",
    "\n",
    "from langchain.prompts import PromptTemplate\n",
    "from langchain.chains import  LLMChain\n",
    "\n",
    "\n",
    "prompt = PromptTemplate(\n",
    "    input_variables=[\"query\"],\n",
    "    template = \"{query}\"\n",
    "\n",
    ")\n",
    "\n",
    "llm_chain = LLMChain(llm=llm, prompt=prompt)\n",
    "\n",
    "\n",
    "#initialize the LLM tool\n",
    "\n",
    "llm_tool = Tool(\n",
    "    name = \"Language Model\",\n",
    "    func = llm_chain.run,\n",
    "    description=\"use this tool for general purpose queries and logic\"\n",
    ")"
   ]
  },
  {
   "cell_type": "code",
   "execution_count": null,
   "metadata": {},
   "outputs": [],
   "source": [
    "#append the tool\n",
    "\n",
    "tools.append(llm_tool)"
   ]
  },
  {
   "cell_type": "code",
   "execution_count": null,
   "metadata": {},
   "outputs": [],
   "source": [
    "#Now initialize the agent with our two tools\n",
    "\n",
    "zero_shot_agent = initialize_agent(\n",
    "    agent=\"zero-shot-react-description\",\n",
    "    tools = tools,\n",
    "    llm = llm,\n",
    "    verbose = True,\n",
    "    max_iterations = 3\n",
    ")\n"
   ]
  },
  {
   "cell_type": "code",
   "execution_count": null,
   "metadata": {},
   "outputs": [],
   "source": [
    "zero_shot_agent(\"Who designed the Victoria Memorial, Kolkata?Find the square of the age of the person when he designed the Victoria Memorial, Kolkata\")"
   ]
  },
  {
   "cell_type": "code",
   "execution_count": null,
   "metadata": {},
   "outputs": [],
   "source": []
  },
  {
   "cell_type": "code",
   "execution_count": null,
   "metadata": {},
   "outputs": [],
   "source": []
  },
  {
   "cell_type": "code",
   "execution_count": null,
   "metadata": {},
   "outputs": [],
   "source": []
  },
  {
   "cell_type": "code",
   "execution_count": null,
   "metadata": {},
   "outputs": [],
   "source": [
    "!pip install -qU langchain openai google-search-results wikipedia sqlalchemy"
   ]
  },
  {
   "cell_type": "code",
   "execution_count": null,
   "metadata": {},
   "outputs": [],
   "source": [
    "import os\n",
    "from dotenv import load_dotenv\n",
    "\n",
    "load_dotenv()"
   ]
  },
  {
   "cell_type": "code",
   "execution_count": null,
   "metadata": {},
   "outputs": [],
   "source": [
    "from langchain import OpenAI\n",
    "\n",
    "llm = OpenAI(\n",
    "    openai_api_key=os.environ['OPENAI_API_KEY'],\n",
    "    openai_api_base=os.environ['OPENAI_REVERSE_PROXY'],\n",
    "    temperature=0\n",
    ")"
   ]
  },
  {
   "cell_type": "code",
   "execution_count": null,
   "metadata": {},
   "outputs": [],
   "source": [
    "\n",
    "from langchain.callbacks import get_openai_callback\n",
    "\n",
    "def count_tokens(agent, query):\n",
    "    with get_openai_callback() as cb:\n",
    "        result = agent(query)\n",
    "        print(f'Spent a total of {cb.total_tokens} tokens')\n",
    "\n",
    "    return result\n",
    "\n",
    "# With all of that set up, lets jump into Agents."
   ]
  },
  {
   "cell_type": "markdown",
   "metadata": {},
   "source": [
    "## What is an agent?"
   ]
  },
  {
   "cell_type": "code",
   "execution_count": 39,
   "metadata": {},
   "outputs": [],
   "source": [
    "# We will use the agents to interact with a small sample database of stocks. We will not dive into the details because this is just a dummy tool we will build for illustrative purposes. Let's create it.\n",
    "\n",
    "\n",
    "from sqlalchemy import MetaData\n",
    "\n",
    "metadata_obj = MetaData()"
   ]
  },
  {
   "cell_type": "code",
   "execution_count": null,
   "metadata": {},
   "outputs": [],
   "source": [
    "from sqlalchemy import Column, Integer, String, Table, Date, Float\n",
    "\n",
    "\n",
    "stocks = Table(\n",
    "    \"stocks\",\n",
    "    metadata_obj,\n",
    "    Column(\"obs_id\", Integer, primary_key=True),\n",
    "    Column(\"stock_ticker\", String(4), nullable=False),\n",
    "    Column(\"price\", Float, nullable=False),\n",
    "    Column(\"date\", Date, nullable=False),\n",
    ")"
   ]
  },
  {
   "cell_type": "code",
   "execution_count": null,
   "metadata": {},
   "outputs": [],
   "source": [
    "from sqlalchemy import  create_engine\n",
    "\n",
    "engine = create_engine(\"sqlite:///:memory:\")\n",
    "metadata_obj.create_all(engine)"
   ]
  },
  {
   "cell_type": "code",
   "execution_count": null,
   "metadata": {},
   "outputs": [],
   "source": [
    "from datetime import datetime\n",
    "\n",
    "observations = [\n",
    "    [1, 'ABC', 200, datetime(2023, 1, 1)],\n",
    "    [2, 'ABC', 208, datetime(2023, 1, 2)],\n",
    "    [3, 'ABC', 232, datetime(2023, 1, 3)],\n",
    "    [4, 'ABC', 225, datetime(2023, 1, 4)],\n",
    "    [5, 'ABC', 226, datetime(2023, 1, 5)],\n",
    "    [6, 'XYZ', 810, datetime(2023, 1, 1)],\n",
    "    [7, 'XYZ', 803, datetime(2023, 1, 2)],\n",
    "    [8, 'XYZ', 798, datetime(2023, 1, 3)],\n",
    "    [9, 'XYZ', 795, datetime(2023, 1, 4)],\n",
    "    [10, 'XYZ', 791, datetime(2023, 1, 5)],\n",
    "]"
   ]
  },
  {
   "cell_type": "code",
   "execution_count": null,
   "metadata": {},
   "outputs": [],
   "source": [
    "from sqlalchemy import insert\n",
    "\n",
    "def insert_obs(obs):\n",
    "    stmt = insert(stocks).values(\n",
    "    obs_id = obs[0],\n",
    "    stock_ticker = obs[1],\n",
    "    price = obs[2],\n",
    "    date = obs[3]\n",
    "    )\n",
    "\n",
    "\n",
    "    with engine.begin() as conn:\n",
    "        conn.execute(stmt)"
   ]
  },
  {
   "cell_type": "code",
   "execution_count": null,
   "metadata": {},
   "outputs": [],
   "source": [
    "for obs in observations:\n",
    "    insert_obs(obs)"
   ]
  },
  {
   "cell_type": "code",
   "execution_count": null,
   "metadata": {},
   "outputs": [],
   "source": [
    "!pip install langchain_experimental"
   ]
  },
  {
   "cell_type": "code",
   "execution_count": null,
   "metadata": {},
   "outputs": [],
   "source": [
    "from langchain.chat_models import ChatVertexAI\n",
    "llm = ChatVertexAI(temperature=0)"
   ]
  },
  {
   "cell_type": "code",
   "execution_count": null,
   "metadata": {},
   "outputs": [],
   "source": [
    "from langchain.sql_database import SQLDatabase\n",
    "from langchain_experimental.sql import SQLDatabaseChain"
   ]
  },
  {
   "cell_type": "code",
   "execution_count": null,
   "metadata": {},
   "outputs": [],
   "source": [
    "db = SQLDatabase(engine=engine)"
   ]
  },
  {
   "cell_type": "code",
   "execution_count": null,
   "metadata": {},
   "outputs": [],
   "source": [
    "sql_chain = SQLDatabaseChain(llm=llm, database=db, verbose=True)"
   ]
  },
  {
   "cell_type": "code",
   "execution_count": null,
   "metadata": {},
   "outputs": [],
   "source": [
    "from langchain.agents import Tool\n",
    "sql_tool  = Tool(\n",
    "    name='Stock DB',\n",
    "    func = sql_chain.run,\n",
    "    description=\"Userful for when you need to answer questions about stocks and their prices\"\n",
    ")"
   ]
  },
  {
   "cell_type": "markdown",
   "metadata": {},
   "source": [
    "Agent types"
   ]
  },
  {
   "cell_type": "code",
   "execution_count": null,
   "metadata": {},
   "outputs": [],
   "source": [
    "from langchain.agents import load_tools\n",
    "\n",
    "tools = load_tools(\n",
    "    ['llm-math'],\n",
    "    llm=llm\n",
    ")"
   ]
  },
  {
   "cell_type": "code",
   "execution_count": null,
   "metadata": {},
   "outputs": [],
   "source": [
    "tools.append(sql_tool)"
   ]
  },
  {
   "cell_type": "code",
   "execution_count": 10,
   "metadata": {},
   "outputs": [],
   "source": [
    "# As the name suggests we will use this agent to perform zero shot tasks on the input.In other words, this agent will have no memory.\n",
    "\n",
    "\n",
    "from langchain.agents import initialize_agent\n",
    "\n",
    "zero_shot_agent = initialize_agent(\n",
    "    agent=\"zero-shot-react-description\",\n",
    "    tools = tools,\n",
    "    llm = llm,\n",
    "    verbose = True,\n",
    "    max_iterations = 3\n",
    ")"
   ]
  },
  {
   "cell_type": "code",
   "execution_count": null,
   "metadata": {},
   "outputs": [],
   "source": [
    "#Now lets check it out\n",
    "\n",
    "result = count_tokens(\n",
    "    zero_shot_agent, \n",
    "    \"What is the multiplication of the ratio between stock \" +\n",
    "    \"prices for 'ABC' and 'XYZ' in January 3rd and the ratio \" + \n",
    "    \"between the same stock prices in January the 4th?\"\n",
    ")"
   ]
  },
  {
   "cell_type": "code",
   "execution_count": null,
   "metadata": {},
   "outputs": [],
   "source": [
    "print(zero_shot_agent.agent.llm_chain.prompt.template)"
   ]
  },
  {
   "cell_type": "markdown",
   "metadata": {},
   "source": [
    "## Agent type 2: Conversational React"
   ]
  },
  {
   "cell_type": "code",
   "execution_count": 12,
   "metadata": {},
   "outputs": [],
   "source": [
    "from langchain import OpenAI\n",
    "from langchain.agents import load_tools\n",
    "import os\n",
    "import dotenv\n",
    "\n",
    "\n",
    "llm = OpenAI(\n",
    "    temperature = 0,\n",
    "    openai_api_base = dotenv.get_key('.env','OPENAI_REVERSE_PROXY'),\n",
    "    openai_api_key = dotenv.get_key('.env','OPENAI_API_KEY')\n",
    ")"
   ]
  },
  {
   "cell_type": "code",
   "execution_count": 13,
   "metadata": {},
   "outputs": [],
   "source": [
    "tools =  load_tools(\n",
    "    ['llm-math'],\n",
    "    llm=llm\n",
    ")"
   ]
  },
  {
   "cell_type": "code",
   "execution_count": 14,
   "metadata": {},
   "outputs": [
    {
     "ename": "NameError",
     "evalue": "name 'sql_tool' is not defined",
     "output_type": "error",
     "traceback": [
      "\u001b[0;31m---------------------------------------------------------------------------\u001b[0m",
      "\u001b[0;31mNameError\u001b[0m                                 Traceback (most recent call last)",
      "Cell \u001b[0;32mIn[14], line 1\u001b[0m\n\u001b[0;32m----> 1\u001b[0m tools\u001b[39m.\u001b[39mappend(sql_tool)\n",
      "\u001b[0;31mNameError\u001b[0m: name 'sql_tool' is not defined"
     ]
    }
   ],
   "source": [
    "tools.append(sql_tool)"
   ]
  },
  {
   "cell_type": "code",
   "execution_count": 15,
   "metadata": {},
   "outputs": [],
   "source": [
    "from langchain.memory import ConversationBufferMemory\n",
    "memory = ConversationBufferMemory(memory_key=\"chat_history\")"
   ]
  },
  {
   "cell_type": "code",
   "execution_count": 16,
   "metadata": {},
   "outputs": [],
   "source": [
    "conversational_agent = initialize_agent(\n",
    "    agent='conversational-react-description', \n",
    "    tools=tools, \n",
    "    llm=llm,\n",
    "    verbose=True,\n",
    "    max_iterations=3,\n",
    "    memory=memory,\n",
    "    \n",
    ")\n"
   ]
  },
  {
   "cell_type": "code",
   "execution_count": null,
   "metadata": {},
   "outputs": [],
   "source": [
    "result= count_tokens(\n",
    "    conversational_agent,\n",
    "    \"Please provide me the stock prices for ABC on January the 1st\"\n",
    ")"
   ]
  },
  {
   "cell_type": "code",
   "execution_count": null,
   "metadata": {},
   "outputs": [],
   "source": [
    "print(conversational_agent.agent.llm_chain.prompt.template)"
   ]
  },
  {
   "cell_type": "code",
   "execution_count": null,
   "metadata": {},
   "outputs": [],
   "source": [
    "result = count_tokens(\n",
    "    conversational_agent, \n",
    "    \"What is the multiplication of the ratio of the prices of stocks 'ABC' and 'XYZ' in January 3rd and the ratio of the same prices of the same stocks in January the 4th?\"\n",
    ")"
   ]
  },
  {
   "cell_type": "code",
   "execution_count": null,
   "metadata": {},
   "outputs": [],
   "source": [
    "from langchain import Wikipedia\n",
    "from langchain.agents.react.base import DocstoreExplorer\n",
    "\n",
    "docstore=DocstoreExplorer(Wikipedia())\n",
    "tools = [\n",
    "    Tool(\n",
    "        name=\"Search\",\n",
    "        func=docstore.search,\n",
    "        description='search wikipedia'\n",
    "    ),\n",
    "    Tool(\n",
    "        name=\"Lookup\",\n",
    "        func=docstore.lookup,\n",
    "        description='lookup a term in wikipedia'\n",
    "    )\n",
    "]"
   ]
  },
  {
   "cell_type": "code",
   "execution_count": null,
   "metadata": {},
   "outputs": [],
   "source": [
    "\n",
    "\n",
    "docstore_agent = initialize_agent(\n",
    "    tools, \n",
    "    llm, \n",
    "    agent=\"react-docstore\", \n",
    "    verbose=True,\n",
    "    max_iterations=3\n",
    ")\n",
    "\n"
   ]
  },
  {
   "cell_type": "code",
   "execution_count": null,
   "metadata": {},
   "outputs": [],
   "source": [
    "count_tokens(docstore_agent, \"What were Archimedes' last words?\")"
   ]
  },
  {
   "cell_type": "code",
   "execution_count": 17,
   "metadata": {},
   "outputs": [],
   "source": [
    "from langchain import OpenAI, SerpAPIWrapper\n",
    "from langchain.agents import initialize_agent, Tool\n",
    "\n",
    "search = SerpAPIWrapper(serpapi_api_key=os.environ['SERPER_API_KEY'])\n",
    "search_tool  = Tool(\n",
    "    name='Intermediate Answer',\n",
    "    func = search.run,\n",
    "    description = \"Use this function to google search\"\n",
    ")\n",
    "\n",
    "self_ask_with_search = initialize_agent([search_tool], llm, agent=\"self-ask-with-search\", verbose=True)\n"
   ]
  },
  {
   "cell_type": "code",
   "execution_count": 18,
   "metadata": {},
   "outputs": [
    {
     "name": "stdout",
     "output_type": "stream",
     "text": [
      "Question: Who lived longer, Muhammad Ali or Alan Turing?\n",
      "Are follow up questions needed here: Yes.\n",
      "Follow up: How old was Muhammad Ali when he died?\n",
      "Intermediate answer: Muhammad Ali was 74 years old when he died.\n",
      "Follow up: How old was Alan Turing when he died?\n",
      "Intermediate answer: Alan Turing was 41 years old when he died.\n",
      "So the final answer is: Muhammad Ali\n",
      "\n",
      "Question: When was the founder of craigslist born?\n",
      "Are follow up questions needed here: Yes.\n",
      "Follow up: Who was the founder of craigslist?\n",
      "Intermediate answer: Craigslist was founded by Craig Newmark.\n",
      "Follow up: When was Craig Newmark born?\n",
      "Intermediate answer: Craig Newmark was born on December 6, 1952.\n",
      "So the final answer is: December 6, 1952\n",
      "\n",
      "Question: Who was the maternal grandfather of George Washington?\n",
      "Are follow up questions needed here: Yes.\n",
      "Follow up: Who was the mother of George Washington?\n",
      "Intermediate answer: The mother of George Washington was Mary Ball Washington.\n",
      "Follow up: Who was the father of Mary Ball Washington?\n",
      "Intermediate answer: The father of Mary Ball Washington was Joseph Ball.\n",
      "So the final answer is: Joseph Ball\n",
      "\n",
      "Question: Are both the directors of Jaws and Casino Royale from the same country?\n",
      "Are follow up questions needed here: Yes.\n",
      "Follow up: Who is the director of Jaws?\n",
      "Intermediate answer: The director of Jaws is Steven Spielberg.\n",
      "Follow up: Where is Steven Spielberg from?\n",
      "Intermediate answer: The United States.\n",
      "Follow up: Who is the director of Casino Royale?\n",
      "Intermediate answer: The director of Casino Royale is Martin Campbell.\n",
      "Follow up: Where is Martin Campbell from?\n",
      "Intermediate answer: New Zealand.\n",
      "So the final answer is: No\n",
      "\n",
      "Question: {input}\n",
      "Are followup questions needed here:{agent_scratchpad}\n"
     ]
    }
   ],
   "source": [
    "print(self_ask_with_search.agent.llm_chain.prompt.template)"
   ]
  },
  {
   "cell_type": "code",
   "execution_count": 19,
   "metadata": {},
   "outputs": [],
   "source": [
    "tools = load_tools(\n",
    "    ['llm-math'],\n",
    "    llm=llm\n",
    ")"
   ]
  },
  {
   "cell_type": "code",
   "execution_count": 20,
   "metadata": {},
   "outputs": [],
   "source": [
    "tools.append(search_tool)"
   ]
  },
  {
   "cell_type": "code",
   "execution_count": 21,
   "metadata": {},
   "outputs": [],
   "source": [
    "from langchain.memory import ConversationBufferMemory\n",
    "memory = ConversationBufferMemory(memory_key='chat_history')"
   ]
  },
  {
   "cell_type": "code",
   "execution_count": 25,
   "metadata": {},
   "outputs": [],
   "source": [
    "\n",
    "conversational_agent = initialize_agent(\n",
    "    tools, \n",
    "    llm, \n",
    "    verbose=True,\n",
    "    max_iterations=30,\n",
    "    memory = memory\n",
    ")"
   ]
  },
  {
   "cell_type": "code",
   "execution_count": 26,
   "metadata": {},
   "outputs": [
    {
     "data": {
      "text/plain": [
       "True"
      ]
     },
     "execution_count": 26,
     "metadata": {},
     "output_type": "execute_result"
    }
   ],
   "source": [
    "import os\n",
    "import dotenv\n",
    "from dotenv import load_dotenv\n",
    "load_dotenv()"
   ]
  },
  {
   "cell_type": "code",
   "execution_count": 31,
   "metadata": {},
   "outputs": [
    {
     "name": "stdout",
     "output_type": "stream",
     "text": [
      "\n",
      "\n",
      "\u001b[1m> Entering new AgentExecutor chain...\u001b[0m\n",
      "\u001b[32;1m\u001b[1;3m I need to find the nearest prime number of Akbar's age when he died\n",
      "Action: Intermediate Answer\n",
      "Action Input: nearest prime number of Akbar's age when he died\u001b[0m\n",
      "Observation: \u001b[33;1m\u001b[1;3mAkbar ; Jalal-ud-din Muhammad Akbar 15 October 1542 · Amarkot, Rajputana (present-day Umerkot, Sindh, Pakistan) · 27 October 1605(1605-10-27) (aged 63) Fatehpur ...\u001b[0m\n",
      "Thought:\u001b[32;1m\u001b[1;3m I need to find the square root of 63\n",
      "Action: Calculator\n",
      "Action Input: 63\u001b[0m\n",
      "Observation: \u001b[36;1m\u001b[1;3mAnswer: 63\u001b[0m\n",
      "Thought:\u001b[32;1m\u001b[1;3m I now know the final answer\n",
      "Final Answer: 8\u001b[0m\n",
      "\n",
      "\u001b[1m> Finished chain.\u001b[0m\n"
     ]
    },
    {
     "data": {
      "text/plain": [
       "{'input': '{sys_message}:You are terrible at maths, so whenever a calculation comes always use the calculator tool,Find the square root of the nearest prime number of the age of Akbar when he died',\n",
       " 'chat_history': 'Human: Find the square root of the nearest prime number of the age of Akbar when he died\\nAI: Agent stopped due to iteration limit or time limit.\\nHuman: Find the square root of the nearest prime number of the age of Akbar when he died\\nAI: The square root of the nearest prime number of the age of Akbar when he died is 8.\\nHuman: {sys_message}:You are terrible at maths, so whenever a calculation comes always use the calculator tool,Find the square root of the nearest prime number of the age of Akbar when he died\\nAI: 8\\nHuman: find the square root of 63\\nAI: 8',\n",
       " 'output': '8'}"
      ]
     },
     "execution_count": 31,
     "metadata": {},
     "output_type": "execute_result"
    }
   ],
   "source": [
    "conversational_agent(\"{sys_message}:You are terrible at maths, so whenever a calculation comes always use the calculator tool,Find the square root of the nearest prime number of the age of Akbar when he died\")"
   ]
  },
  {
   "cell_type": "code",
   "execution_count": 37,
   "metadata": {},
   "outputs": [
    {
     "name": "stdout",
     "output_type": "stream",
     "text": [
      "\n",
      "\n",
      "\u001b[1m> Entering new AgentExecutor chain...\u001b[0m\n",
      "\u001b[32;1m\u001b[1;3m I need to find the names of the rulers and the time period they reigned.\n",
      "Action: Intermediate Answer\n",
      "Action Input: \"Mughal Empire rulers and time period\"\u001b[0m\n",
      "Observation: \u001b[33;1m\u001b[1;3mThe Mughal Empire's first ruler was Babur. On April 20, 1526, Babur established his kingdom after defeating Ibrahim Lodi in the first battle of Panipat (1526). However, the kingdom's decline began with the sixth emperor Aurangzeb, and it was finally overthrown on September 21, 1857, as a result of the Revolt of 1857.\u001b[0m\n",
      "Thought:\u001b[32;1m\u001b[1;3m I need to create an SQL query to create a table with the rulers' names and time period.\n",
      "Action: Intermediate Answer\n",
      "Action Input: \"Mughal Empire rulers and time period SQL query\"\u001b[0m\n",
      "Observation: \u001b[33;1m\u001b[1;3mMughal emperors were the supreme heads of state of the Mughal Empire on the Indian subcontinent, mainly corresponding to the modern countries of India, ...\u001b[0m\n",
      "Thought:\u001b[32;1m\u001b[1;3m I need to find the time in years each ruler reigned.\n",
      "Action: Intermediate Answer\n",
      "Action Input: \"Mughal Empire rulers and time period in years\"\u001b[0m\n",
      "Observation: \u001b[33;1m\u001b[1;3m1. Babur (1483 –1531) · 2. Humayun (1508 –1556), Masuma Sultan Begum · 3. Akbar (1542 –1605), Mirza Muhammad Hakim · 4. Jahangir (1569 –1627), Shahzada Khanam · 5.\u001b[0m\n",
      "Thought:\u001b[32;1m\u001b[1;3m I now know the final answer.\n",
      "Final Answer: The Mughal Empire's rulers and time period in years can be found in the following SQL query: \n",
      "\n",
      "CREATE TABLE mughal_empire (\n",
      "  ruler_name VARCHAR(50),\n",
      "  time_period VARCHAR(50),\n",
      "  time_in_years INT\n",
      ");\n",
      "\n",
      "INSERT INTO mughal_empire (ruler_name, time_period, time_in_years) VALUES\n",
      "  ('Babur', '1483-1531', 48),\n",
      "  ('Humayun', '1508-1556', 48),\n",
      "  ('Akbar', '1542-1605', 63),\n",
      "  ('Jahangir', '1569-1627', 58),\n",
      "  ('Shah Jahan', '1628-1658', 30),\n",
      "  ('Aurangzeb', '1658-1707', 49);\u001b[0m\n",
      "\n",
      "\u001b[1m> Finished chain.\u001b[0m\n"
     ]
    },
    {
     "data": {
      "text/plain": [
       "{'input': 'Find the hierarcy of the Mughal empire.Find the name of the rulers and the time period they reigned, then create an sql query to create a table which has three columns one for ruler name and one for time period and one for the time in years they ruled and fill the values with the rulers\\' names and time period and the time they ruled\\n\"EXAMPLE\":\\n|RULER_NAME|TIME_PERIOD|\\n|Mughal Empire|1947-1966|\\n|Mughal Empire|1966-1971|\\n|Mughal Empire|1971-1981|\\n|\\n',\n",
       " 'chat_history': 'Human: Find the square root of the nearest prime number of the age of Akbar when he died\\nAI: Agent stopped due to iteration limit or time limit.\\nHuman: Find the square root of the nearest prime number of the age of Akbar when he died\\nAI: The square root of the nearest prime number of the age of Akbar when he died is 8.\\nHuman: {sys_message}:You are terrible at maths, so whenever a calculation comes always use the calculator tool,Find the square root of the nearest prime number of the age of Akbar when he died\\nAI: 8\\nHuman: find the square root of 63\\nAI: 8\\nHuman: {sys_message}:You are terrible at maths, so whenever a calculation comes always use the calculator tool,Find the square root of the nearest prime number of the age of Akbar when he died\\nAI: 8\\nHuman: Find the hierarcy of the Mughal empire.Find the name of the rulers and the time period they reigned, then create an sql table which has two columns one for ruler name and other for time period.\\n\"EXAMPLE\":\\n|RULER_NAME|TIME_PERIOD|\\n|Mughal Empire|1947-1966|\\n|Mughal Empire|1966-1971|\\n|Mughal Empire|1971-1981|\\n|\\n\\nAI: The SQL CREATE TABLE statement can be used to create a table with two columns, one for the ruler name and one for the time period, containing the names of the Mughal Empire rulers and the time periods they reigned.\\nHuman: Find the hierarcy of the Mughal empire.Find the name of the rulers and the time period they reigned, then create an sql query to create a table which has two columns one for ruler name and other for time period, and fill the values with the rulers\\' names and time period\\n\"EXAMPLE\":\\n|RULER_NAME|TIME_PERIOD|\\n|Mughal Empire|1947-1966|\\n|Mughal Empire|1966-1971|\\n|Mughal Empire|1971-1981|\\n|\\n\\nAI: CREATE TABLE Mughal_Empire (RULER_NAME VARCHAR(255), TIME_PERIOD VARCHAR(255)); INSERT INTO Mughal_Empire (RULER_NAME, TIME_PERIOD) VALUES (\\'Babur\\', \\'1526-1605\\'), (\\'Humayun\\', \\'1530-1556\\'), (\\'Akbar\\', \\'1556-1605\\'), (\\'Jahangir\\', \\'1605-1627\\'), (\\'Shah Jahan\\', \\'1627-1658\\'), (\\'Aurangzeb\\', \\'1658-1707\\'), (\\'Bahadur Shah I\\', \\'1707-1712\\'), (\\'Jahandar Shah\\', \\'1712-1713\\'), (\\'Furrukhsiyar\\', \\'1713-1719\\'), (\\'Rafi Ul-Darjat\\', \\'1719\\'), (\\'Rafi Ud-Daulat\\', \\'1719-1720\\'), (\\'Nadir Shah\\', \\'1720-1739\\'), (\\'Muhammad Shah\\', \\'1719-1748\\'), (\\'Ahmad Shah\\', \\'1748-1754\\'), (\\'Alamgir II',\n",
       " 'output': \"The Mughal Empire's rulers and time period in years can be found in the following SQL query: \\n\\nCREATE TABLE mughal_empire (\\n  ruler_name VARCHAR(50),\\n  time_period VARCHAR(50),\\n  time_in_years INT\\n);\\n\\nINSERT INTO mughal_empire (ruler_name, time_period, time_in_years) VALUES\\n  ('Babur', '1483-1531', 48),\\n  ('Humayun', '1508-1556', 48),\\n  ('Akbar', '1542-1605', 63),\\n  ('Jahangir', '1569-1627', 58),\\n  ('Shah Jahan', '1628-1658', 30),\\n  ('Aurangzeb', '1658-1707', 49);\"}"
      ]
     },
     "execution_count": 37,
     "metadata": {},
     "output_type": "execute_result"
    }
   ],
   "source": [
    "conversational_agent(\"\"\"Find the hierarcy of the Mughal empire.Find the name of the rulers and the time period they reigned, then create an sql query to create a table which has three columns one for ruler name and one for time period and one for the time in years they ruled and fill the values with the rulers' names and time period and the time they ruled\n",
    "\"EXAMPLE\":\n",
    "|RULER_NAME|TIME_PERIOD|\n",
    "|Mughal Empire|1947-1966|\n",
    "|Mughal Empire|1966-1971|\n",
    "|Mughal Empire|1971-1981|\n",
    "|\n",
    "\"\"\"\n",
    ")"
   ]
  },
  {
   "cell_type": "code",
   "execution_count": 44,
   "metadata": {},
   "outputs": [],
   "source": [
    "import sqlalchemy\n",
    "\n",
    "engine = sqlalchemy.create_engine(\"sqlite:///mydb.db\")"
   ]
  },
  {
   "cell_type": "code",
   "execution_count": 47,
   "metadata": {},
   "outputs": [],
   "source": [
    "conn = engine.connect()"
   ]
  },
  {
   "cell_type": "code",
   "execution_count": 52,
   "metadata": {},
   "outputs": [
    {
     "data": {
      "text/plain": [
       "<sqlalchemy.engine.cursor.CursorResult at 0x7f6a331410a0>"
      ]
     },
     "execution_count": 52,
     "metadata": {},
     "output_type": "execute_result"
    }
   ],
   "source": [
    "conn.execute(sqlalchemy.text(\"CREATE TABLE mughal_empire (ruler_name VARCHAR(50),time_period VARCHAR(50),time_in_years INT);\"))"
   ]
  },
  {
   "cell_type": "code",
   "execution_count": 54,
   "metadata": {},
   "outputs": [
    {
     "data": {
      "text/plain": [
       "<sqlalchemy.engine.cursor.CursorResult at 0x7f6a33138ee0>"
      ]
     },
     "execution_count": 54,
     "metadata": {},
     "output_type": "execute_result"
    }
   ],
   "source": [
    "conn.execute(sqlalchemy.text(\"INSERT INTO mughal_empire (ruler_name, time_period, time_in_years) VALUES ('Babur', '1483-1531', 48), ('Humayun', '1508-1556', 48), ('Akbar', '1542-1605', 63), ('Jahangir', '1569-1627', 58),('Shah Jahan', '1628-1658', 30),('Aurangzeb', '1658-1707', 49);\"))"
   ]
  },
  {
   "cell_type": "code",
   "execution_count": 57,
   "metadata": {},
   "outputs": [],
   "source": [
    "conn.close()"
   ]
  },
  {
   "cell_type": "code",
   "execution_count": null,
   "metadata": {},
   "outputs": [],
   "source": []
  }
 ],
 "metadata": {
  "kernelspec": {
   "display_name": "Python 3",
   "language": "python",
   "name": "python3"
  },
  "language_info": {
   "codemirror_mode": {
    "name": "ipython",
    "version": 3
   },
   "file_extension": ".py",
   "mimetype": "text/x-python",
   "name": "python",
   "nbconvert_exporter": "python",
   "pygments_lexer": "ipython3",
   "version": "3.9.16"
  },
  "orig_nbformat": 4
 },
 "nbformat": 4,
 "nbformat_minor": 2
}
