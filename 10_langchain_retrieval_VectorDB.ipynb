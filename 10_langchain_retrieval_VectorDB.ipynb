{
 "cells": [
  {
   "cell_type": "markdown",
   "metadata": {},
   "source": [
    "## Retrieval Agents"
   ]
  },
  {
   "cell_type": "code",
   "execution_count": 2,
   "metadata": {},
   "outputs": [],
   "source": [
    "# We have seen that conversational agents can struggle with data freshness, domain specific data or accessing confidential or organizational internal documents. This problem can be alleviated by using using Retrieval Augmentation tools.\n",
    "\n",
    "\n",
    "# On the other sid using naive retrieval augmentation tool without the use of agents means we will retrieve contexts with every query. Again, this isnt always ideal as nto every query requires access to external knowledge"
   ]
  },
  {
   "cell_type": "markdown",
   "metadata": {},
   "source": [
    "## Building the Knowledge Base"
   ]
  },
  {
   "cell_type": "code",
   "execution_count": 3,
   "metadata": {},
   "outputs": [],
   "source": [
    "from datasets import load_dataset"
   ]
  },
  {
   "cell_type": "code",
   "execution_count": 4,
   "metadata": {},
   "outputs": [],
   "source": [
    "data = load_dataset('medical_dialog','processed.en',split='train')"
   ]
  },
  {
   "cell_type": "code",
   "execution_count": 5,
   "metadata": {},
   "outputs": [
    {
     "data": {
      "text/plain": [
       "Dataset({\n",
       "    features: ['description', 'utterances'],\n",
       "    num_rows: 482\n",
       "})"
      ]
     },
     "execution_count": 5,
     "metadata": {},
     "output_type": "execute_result"
    }
   ],
   "source": [
    "data"
   ]
  },
  {
   "cell_type": "code",
   "execution_count": 6,
   "metadata": {},
   "outputs": [],
   "source": [
    "utterances = []\n",
    "for i in range(len(data)):\n",
    "   utterances.append(''.join(data['utterances'][i]))"
   ]
  },
  {
   "cell_type": "code",
   "execution_count": 7,
   "metadata": {},
   "outputs": [],
   "source": [
    "data1 = data.to_pandas()"
   ]
  },
  {
   "cell_type": "code",
   "execution_count": 8,
   "metadata": {},
   "outputs": [],
   "source": [
    "data1['utterances'] = utterances"
   ]
  },
  {
   "cell_type": "code",
   "execution_count": 9,
   "metadata": {},
   "outputs": [
    {
     "data": {
      "text/html": [
       "<div>\n",
       "<style scoped>\n",
       "    .dataframe tbody tr th:only-of-type {\n",
       "        vertical-align: middle;\n",
       "    }\n",
       "\n",
       "    .dataframe tbody tr th {\n",
       "        vertical-align: top;\n",
       "    }\n",
       "\n",
       "    .dataframe thead th {\n",
       "        text-align: right;\n",
       "    }\n",
       "</style>\n",
       "<table border=\"1\" class=\"dataframe\">\n",
       "  <thead>\n",
       "    <tr style=\"text-align: right;\">\n",
       "      <th></th>\n",
       "      <th>description</th>\n",
       "      <th>utterances</th>\n",
       "    </tr>\n",
       "  </thead>\n",
       "  <tbody>\n",
       "    <tr>\n",
       "      <th>0</th>\n",
       "      <td>throat a bit sore and want to get a good imune...</td>\n",
       "      <td>patient: throat a bit sore and want to get a g...</td>\n",
       "    </tr>\n",
       "    <tr>\n",
       "      <th>1</th>\n",
       "      <td>hey there i have had cold \"symptoms\" for over ...</td>\n",
       "      <td>patient: hey there i have had cold \"symptoms\" ...</td>\n",
       "    </tr>\n",
       "    <tr>\n",
       "      <th>2</th>\n",
       "      <td>i have a tight and painful chest with a dry co...</td>\n",
       "      <td>patient: i have a tight and painful chest with...</td>\n",
       "    </tr>\n",
       "    <tr>\n",
       "      <th>3</th>\n",
       "      <td>what will happen after the incubation period f...</td>\n",
       "      <td>patient: what will happen after the incubation...</td>\n",
       "    </tr>\n",
       "    <tr>\n",
       "      <th>4</th>\n",
       "      <td>suggest treatment for pneumonia</td>\n",
       "      <td>patient: just found out i was pregnant. yester...</td>\n",
       "    </tr>\n",
       "  </tbody>\n",
       "</table>\n",
       "</div>"
      ],
      "text/plain": [
       "                                         description  \\\n",
       "0  throat a bit sore and want to get a good imune...   \n",
       "1  hey there i have had cold \"symptoms\" for over ...   \n",
       "2  i have a tight and painful chest with a dry co...   \n",
       "3  what will happen after the incubation period f...   \n",
       "4                    suggest treatment for pneumonia   \n",
       "\n",
       "                                          utterances  \n",
       "0  patient: throat a bit sore and want to get a g...  \n",
       "1  patient: hey there i have had cold \"symptoms\" ...  \n",
       "2  patient: i have a tight and painful chest with...  \n",
       "3  patient: what will happen after the incubation...  \n",
       "4  patient: just found out i was pregnant. yester...  "
      ]
     },
     "execution_count": 9,
     "metadata": {},
     "output_type": "execute_result"
    }
   ],
   "source": [
    "data1.head()"
   ]
  },
  {
   "cell_type": "code",
   "execution_count": 10,
   "metadata": {},
   "outputs": [],
   "source": [
    "data1 = data1.reset_index()"
   ]
  },
  {
   "cell_type": "markdown",
   "metadata": {},
   "source": [
    "## Initialize the Embedding Model and Vector DB"
   ]
  },
  {
   "cell_type": "code",
   "execution_count": 11,
   "metadata": {},
   "outputs": [],
   "source": [
    "import os\n",
    "from dotenv import load_dotenv\n",
    "load_dotenv()\n",
    "\n",
    "from langchain.embeddings.openai import OpenAIEmbeddings"
   ]
  },
  {
   "cell_type": "code",
   "execution_count": 12,
   "metadata": {},
   "outputs": [],
   "source": [
    "#initialize the embedding object\n",
    "\n",
    "\n",
    "embed = OpenAIEmbeddings(openai_api_base=os.environ['OPENAI_REVERSE_PROXY'],\n",
    "                         openai_api_key= os.environ['OPENAI_API_KEY'])"
   ]
  },
  {
   "cell_type": "markdown",
   "metadata": {},
   "source": [
    "## Initialize the pinecone connection"
   ]
  },
  {
   "cell_type": "code",
   "execution_count": 13,
   "metadata": {},
   "outputs": [],
   "source": [
    "import pinecone\n",
    "\n",
    "index_name = 'langchain-retrieval-agent'\n",
    "\n",
    "\n",
    "pinecone.init(\n",
    "    api_key=os.environ['PINECONE_API_KEY'],\n",
    "    environment= 'asia-southeast1-gcp-free'\n",
    ")"
   ]
  },
  {
   "cell_type": "markdown",
   "metadata": {},
   "source": [
    "\n",
    "## Create the index if it doesnt exist"
   ]
  },
  {
   "cell_type": "code",
   "execution_count": 14,
   "metadata": {},
   "outputs": [],
   "source": [
    "if index_name not in pinecone.list_indexes():\n",
    "    # we create a new index\n",
    "\n",
    "    pinecone.create_index(\n",
    "        name = index_name,\n",
    "        metric = 'dotproduct',\n",
    "        dimension = 1536\n",
    "    )"
   ]
  },
  {
   "cell_type": "markdown",
   "metadata": {},
   "source": [
    "## Then connect to the index"
   ]
  },
  {
   "cell_type": "code",
   "execution_count": 15,
   "metadata": {},
   "outputs": [
    {
     "data": {
      "text/plain": [
       "{'dimension': 1536,\n",
       " 'index_fullness': 0.0,\n",
       " 'namespaces': {'': {'vector_count': 21}},\n",
       " 'total_vector_count': 21}"
      ]
     },
     "execution_count": 15,
     "metadata": {},
     "output_type": "execute_result"
    }
   ],
   "source": [
    "index = pinecone.Index(index_name)\n",
    "index.describe_index_stats()"
   ]
  },
  {
   "cell_type": "markdown",
   "metadata": {},
   "source": [
    "## Now comes the main part ie Indexing"
   ]
  },
  {
   "cell_type": "code",
   "execution_count": 16,
   "metadata": {},
   "outputs": [
    {
     "data": {
      "text/plain": [
       "0      patient: throat a bit sore and want to get a g...\n",
       "1      patient: hey there i have had cold \"symptoms\" ...\n",
       "2      patient: i have a tight and painful chest with...\n",
       "3      patient: what will happen after the incubation...\n",
       "4      patient: just found out i was pregnant. yester...\n",
       "                             ...                        \n",
       "477    patient: my 5 year old son woke up not feeling...\n",
       "478    patient: i have a dry cough and sore throat- i...\n",
       "479    patient: how do i know if i have a normal cold...\n",
       "480    patient: hi- i was diagnosed a month ago with ...\n",
       "481    patient: i have a aunt that is in the hospital...\n",
       "Name: utterances, Length: 482, dtype: object"
      ]
     },
     "execution_count": 16,
     "metadata": {},
     "output_type": "execute_result"
    }
   ],
   "source": [
    "data1['utterances']"
   ]
  },
  {
   "cell_type": "code",
   "execution_count": 17,
   "metadata": {},
   "outputs": [],
   "source": [
    "from uuid import uuid4\n",
    "data1['id'] = [uuid4() for i in range(len(data1))]"
   ]
  },
  {
   "cell_type": "code",
   "execution_count": 18,
   "metadata": {},
   "outputs": [
    {
     "data": {
      "text/html": [
       "<div>\n",
       "<style scoped>\n",
       "    .dataframe tbody tr th:only-of-type {\n",
       "        vertical-align: middle;\n",
       "    }\n",
       "\n",
       "    .dataframe tbody tr th {\n",
       "        vertical-align: top;\n",
       "    }\n",
       "\n",
       "    .dataframe thead th {\n",
       "        text-align: right;\n",
       "    }\n",
       "</style>\n",
       "<table border=\"1\" class=\"dataframe\">\n",
       "  <thead>\n",
       "    <tr style=\"text-align: right;\">\n",
       "      <th></th>\n",
       "      <th>index</th>\n",
       "      <th>description</th>\n",
       "      <th>utterances</th>\n",
       "      <th>id</th>\n",
       "    </tr>\n",
       "  </thead>\n",
       "  <tbody>\n",
       "    <tr>\n",
       "      <th>0</th>\n",
       "      <td>0</td>\n",
       "      <td>throat a bit sore and want to get a good imune...</td>\n",
       "      <td>patient: throat a bit sore and want to get a g...</td>\n",
       "      <td>79bb5dee-31b9-4a05-a3b0-49a34da22967</td>\n",
       "    </tr>\n",
       "    <tr>\n",
       "      <th>1</th>\n",
       "      <td>1</td>\n",
       "      <td>hey there i have had cold \"symptoms\" for over ...</td>\n",
       "      <td>patient: hey there i have had cold \"symptoms\" ...</td>\n",
       "      <td>d77cc443-49e5-4792-a56d-68bb0826d3ae</td>\n",
       "    </tr>\n",
       "    <tr>\n",
       "      <th>2</th>\n",
       "      <td>2</td>\n",
       "      <td>i have a tight and painful chest with a dry co...</td>\n",
       "      <td>patient: i have a tight and painful chest with...</td>\n",
       "      <td>21b07131-28c7-4606-9055-9b53c9eb144e</td>\n",
       "    </tr>\n",
       "    <tr>\n",
       "      <th>3</th>\n",
       "      <td>3</td>\n",
       "      <td>what will happen after the incubation period f...</td>\n",
       "      <td>patient: what will happen after the incubation...</td>\n",
       "      <td>b454da53-3bff-43b1-968c-ae88884293c0</td>\n",
       "    </tr>\n",
       "    <tr>\n",
       "      <th>4</th>\n",
       "      <td>4</td>\n",
       "      <td>suggest treatment for pneumonia</td>\n",
       "      <td>patient: just found out i was pregnant. yester...</td>\n",
       "      <td>d8945682-f991-4abb-a6be-c6f40cc0f19d</td>\n",
       "    </tr>\n",
       "  </tbody>\n",
       "</table>\n",
       "</div>"
      ],
      "text/plain": [
       "   index                                        description  \\\n",
       "0      0  throat a bit sore and want to get a good imune...   \n",
       "1      1  hey there i have had cold \"symptoms\" for over ...   \n",
       "2      2  i have a tight and painful chest with a dry co...   \n",
       "3      3  what will happen after the incubation period f...   \n",
       "4      4                    suggest treatment for pneumonia   \n",
       "\n",
       "                                          utterances  \\\n",
       "0  patient: throat a bit sore and want to get a g...   \n",
       "1  patient: hey there i have had cold \"symptoms\" ...   \n",
       "2  patient: i have a tight and painful chest with...   \n",
       "3  patient: what will happen after the incubation...   \n",
       "4  patient: just found out i was pregnant. yester...   \n",
       "\n",
       "                                     id  \n",
       "0  79bb5dee-31b9-4a05-a3b0-49a34da22967  \n",
       "1  d77cc443-49e5-4792-a56d-68bb0826d3ae  \n",
       "2  21b07131-28c7-4606-9055-9b53c9eb144e  \n",
       "3  b454da53-3bff-43b1-968c-ae88884293c0  \n",
       "4  d8945682-f991-4abb-a6be-c6f40cc0f19d  "
      ]
     },
     "execution_count": 18,
     "metadata": {},
     "output_type": "execute_result"
    }
   ],
   "source": [
    "data1.head()"
   ]
  },
  {
   "cell_type": "code",
   "execution_count": 19,
   "metadata": {},
   "outputs": [
    {
     "data": {
      "application/vnd.jupyter.widget-view+json": {
       "model_id": "be4b6645022844d4af42b91a4ab67480",
       "version_major": 2,
       "version_minor": 0
      },
      "text/plain": [
       "  0%|          | 0/5 [00:00<?, ?it/s]"
      ]
     },
     "metadata": {},
     "output_type": "display_data"
    }
   ],
   "source": [
    "#We can perform the indexing task using the LangChain vector store object. But for now it is much faster  to do it via the Pinecone python client directly. We will do this in batches of 100 or more.\n",
    "\n",
    "\n",
    "from tqdm.auto import  tqdm\n",
    "from uuid import uuid4\n",
    "\n",
    "batch_size = 100\n",
    "\n",
    "\n",
    "texts = []\n",
    "metadatas = []\n",
    "\n",
    "for i in tqdm(range(0, len(data1), batch_size)):\n",
    "\n",
    "    #get end of batch\n",
    "    i_end = min(len(data), i+batch_size)\n",
    "    batch = data1.iloc[i:i_end]\n",
    "\n",
    "    # first get metadata fields for this record\n",
    "\n",
    "    metadatas = [{\n",
    "        'title': record['description'],\n",
    "        'text': record['utterances']\n",
    "    } for j, record in batch.iterrows()]\n",
    "\n",
    "    # get the list of contexts/ documents\n",
    "    documents = batch['utterances']\n",
    "    # create document embeddings\n",
    "    embeds = embed.embed_documents(documents)\n",
    "    # get IDs\n",
    "    ids = str(batch['id'])\n",
    "    # add everything to pinecone\n",
    "    index.upsert(vectors=zip(ids, embeds, metadatas))"
   ]
  },
  {
   "cell_type": "code",
   "execution_count": 20,
   "metadata": {},
   "outputs": [
    {
     "data": {
      "text/plain": [
       "{'dimension': 1536,\n",
       " 'index_fullness': 0.0,\n",
       " 'namespaces': {'': {'vector_count': 21}},\n",
       " 'total_vector_count': 21}"
      ]
     },
     "execution_count": 20,
     "metadata": {},
     "output_type": "execute_result"
    }
   ],
   "source": [
    "index.describe_index_stats()"
   ]
  },
  {
   "cell_type": "markdown",
   "metadata": {},
   "source": [
    "## Creating a Vector Store and Querying"
   ]
  },
  {
   "cell_type": "code",
   "execution_count": 21,
   "metadata": {},
   "outputs": [
    {
     "name": "stderr",
     "output_type": "stream",
     "text": [
      "/home/susearc/gamedisk/stable-torch/lib/python3.9/site-packages/langchain/vectorstores/pinecone.py:61: UserWarning: Passing in `embedding` as a Callable is deprecated. Please pass in an Embeddings object instead.\n",
      "  warnings.warn(\n"
     ]
    }
   ],
   "source": [
    "from langchain.vectorstores import Pinecone\n",
    "text_field = \"text\"\n",
    "\n",
    "\n",
    "# switch back to normal index for langchain\n",
    "index = pinecone.Index(index_name)\n",
    "\n",
    "vectorstore = Pinecone(index, embed.embed_query, text_field)\n"
   ]
  },
  {
   "cell_type": "code",
   "execution_count": 22,
   "metadata": {},
   "outputs": [
    {
     "data": {
      "text/plain": [
       "[Document(page_content=\"patient: i have a dry cough and sore throat- it's been a week now and the cough seems to be getting worse- no runny nose or fever, sometimes a headache, no shortness of breath...should i get tested for covid19?doctor: in brief: covid good guidelines can be found at cdc. gov/coronavirus/2019. you would be considered low risk. symptoms last up to two weeks. high probability many will get the disease and testing leads to no change in action at this time. no obvious therapy (however some encouraging possibilites) and for most people the virus runs its course without incidence. stay put and talk to your provider. would you like to video or text chat with me?\", metadata={'title': \"i have a dry cough and sore throat- it's been a week now and the cough seems to be getting worse- no runny nose or fever, sometimes a headache, no shortness of breath...should i get tested for covid19?\"}),\n",
       " Document(page_content='patient: how do i know if i have a normal cold or maybe the corona virus. my sinuses are congested and i have a post nasal drip which causes sporadic episodes of dry cough outbreaks. i don’t have a fever, but my body is stiff since i hiked 100km in 4 days.?doctor: common cold with sin. the corona virus causes a fever,sore throat ,acute lower resp symptoms such as painfull cough and rep distress ( wheezing)your symptoms are very unlikely to be covid-19.', metadata={'title': 'how do i know if i have a normal cold or maybe the corona virus. my sinuses are congested and i have a post nasal drip which causes sporadic episodes of dry cough outbreaks. i don’t have a fever, but my body is stiff since i hiked 100km in 4 days.?'}),\n",
       " Document(page_content=\"patient: if you feel not quite well 3 or 4 evenings in a row,no fever,minor dry cough,little stuffy,maybe scratchy throat very minor,just crummy feeling in general and evenings only (feel fine during the day) could that be a mild case of coronavirus? thanks.doctor: in brief: viral syndrome you're symptoms are likely viral syndrome; could be the flu, however, given the current covid outbreak, it may very well be corona virus. please follow cdc guidelines for self quarantine. wash your hands frequently with soap and water. keep hydrated. take tylenol for fever/pain. would you like to video or text chat with me?\", metadata={'title': 'if you feel not quite well 3 or 4 evenings in a row,no fever,minor dry cough,little stuffy,maybe scratchy throat very minor,just crummy feeling in general and evenings only (feel fine during the day) could that be a mild case of coronavirus? thanks.'}),\n",
       " Document(page_content='patient: hi i am 39 years old and returned from germany 19 days ago. yesterday i started getting a sore throat, runny nose. today i have sinus pressure and a headache with a blocked nose, throat seems to be improving. should i get tested. if so how?doctor: stay home. stay at home, rest, drink fluids and monitor your temperature. your symptoms are more consistent with a cold or sinus infection. nasal saline and a decongestant may be helpful. if you develop covid symptoms including dry cough, fever, and/or shortness of breath, testing is indicated. report fever and shortness of breath to your pcp.', metadata={'title': 'hi i am 39 years old and returned from germany 19 days ago. yesterday i started getting a sore throat, runny nose. today i have sinus pressure and a headache with a blocked nose, throat seems to be improving. should i get tested. if so how?'}),\n",
       " Document(page_content='patient: i was on a plane on march 8th have been home ever since self quarantine myself i have had headaches and runny throat i have 2 days left of my self quarantine should i be having worse symptoms by now ?doctor: in brief: covid these are healthtap guidelines:https://www. healthtap.com/blog/covid-19-care-guidelines/virtual-care-guidelines-for-covid-19?utm_campaign=covid%20outreach&utm_medium=email&_hsmi=84951814&_hsenc=p2anqtz-_jlhafqzrxrcncgr4mj57eqcomm2titlnybaqii_sh-f4iyzjpz7-eivc1okn2_qdpzno3&utm_content=84951814&utm_source=hs_emaili agree your symptoms should be improving. contact provider. would you like to video or text chat with me?', metadata={'title': 'i was on a plane on march 8th have been home ever since self quarantine myself i have had headaches and runny throat i have 2 days left of my self quarantine should i be having worse symptoms by now ?'}),\n",
       " Document(page_content='patient: what symptoms would make you think i do not have covid-19. i have a bad cold, but got diarrhea twice, so does diarrhea mean it is not covid?doctor: in brief: no diarrhea does not rule out covid. if you have traveled to endemic areas or met with people that traveled there, you should test if possible.', metadata={'title': 'what symptoms would make you think i do not have covid-19. i have a bad cold, but got diarrhea twice, so does diarrhea mean it is not covid?'}),\n",
       " Document(page_content='patient: can wheezing and some difficulty breathing be symptoms of corona virus? i don’t feel anything else so far and i’ve only felt it a few hoursdoctor: in brief: yes: not wheezing but difficulty of breathing is a symptom of the corona virus infection but it is not the common one. it can be seen sometimes. the common symptoms are fever and cough mostly dry cough. the wheezing could be due to asthma or allergies in general. since covid 19 can be seen even without any symptoms i suggest you to get in touch with your doctor for advise and follow up with you. would you like to video or text chat with me?', metadata={'title': 'can wheezing and some difficulty breathing be symptoms of corona virus? i don’t feel anything else so far and i’ve only felt it a few hours'}),\n",
       " Document(page_content='patient: nasal congestion and feeling a bit fluey ?doctor: in brief: stay home hi. if you are concerned about covid-19, please call the hotline on 0800 029 999, see the faqs on https://www. gov.za/coronavirus/faq or https://www.who.int/news-room/q-a-detail/q-a-coronaviruses would you like to video or text chat with me?', metadata={'title': 'nasal congestion and feeling a bit fluey ?'}),\n",
       " Document(page_content='patient: my 5 year old son woke up not feeling well. i measured his temperature and mouth reading is 38.3 and armpit is 38.2. he says he’s head is sore and his neck is sore. am scared it may be covid-19?doctor: in brief: arrange testing stay home, provide fluids and ibuprofen after checking his temperature. if he does not look well to you, please arrange a virtual or in person appointment with your pediatrician. avoid contact with others, use good hand washing and consider testing for influenza and coronavirus. would you like to video or text chat with me?', metadata={'title': 'my 5 year old son woke up not feeling well. i measured his temperature and mouth reading is 38.3 and armpit is 38.2. he says he’s head is sore and his neck is sore. am scared it may be covid-19?'}),\n",
       " Document(page_content='patient: i got back from israel last monday i am in quarantine my symptoms are tight chest and shortness of breath do i need to have a test? should i be taking any medication?doctor: in brief: covid test two weeks of self isolation, if you get worse, call your gp firsttake anti histamines and panda only , get an asthavent pump, use twice a daylots of fluids, vit c and zinc, add echinaforce drops would you like to video or text chat with me?', metadata={'title': 'i got back from israel last monday i am in quarantine my symptoms are tight chest and shortness of breath do i need to have a test? should i be taking any medication?'})]"
      ]
     },
     "execution_count": 22,
     "metadata": {},
     "output_type": "execute_result"
    }
   ],
   "source": [
    "query = \"I am having a dry cough, and high head ache, does it mean I have covid?\"\n",
    "\n",
    "vectorstore.similarity_search(query, 10)\n",
    "\n",
    "# %%\n"
   ]
  },
  {
   "cell_type": "markdown",
   "metadata": {},
   "source": [
    "## Now Lets initialize the conversational agent"
   ]
  },
  {
   "cell_type": "code",
   "execution_count": 23,
   "metadata": {},
   "outputs": [
    {
     "data": {
      "text/plain": [
       "True"
      ]
     },
     "execution_count": 23,
     "metadata": {},
     "output_type": "execute_result"
    }
   ],
   "source": [
    "from langchain.chat_models import ChatOpenAI\n",
    "from langchain import OpenAI\n",
    "from langchain.chains.conversation.memory import ConversationBufferWindowMemory\n",
    "from langchain.chains import RetrievalQA\n",
    "import os\n",
    "from dotenv import  load_dotenv\n",
    "load_dotenv()"
   ]
  },
  {
   "cell_type": "markdown",
   "metadata": {},
   "source": [
    "## Initialize the LLM"
   ]
  },
  {
   "cell_type": "code",
   "execution_count": 24,
   "metadata": {},
   "outputs": [],
   "source": [
    "# Chat completion llm\n",
    "\n",
    "llm = OpenAI(\n",
    "   temperature=0,\n",
    "   openai_api_base= os.environ['OPENAI_REVERSE_PROXY'],\n",
    "   openai_api_key=os.environ['OPENAI_API_KEY']\n",
    ")"
   ]
  },
  {
   "cell_type": "markdown",
   "metadata": {},
   "source": [
    "## Initialize the memory"
   ]
  },
  {
   "cell_type": "code",
   "execution_count": 25,
   "metadata": {},
   "outputs": [],
   "source": [
    "conversational_memory = ConversationBufferWindowMemory(\n",
    "    memory_key='chat_history',\n",
    "    k=5,\n",
    "    return_messages=True\n",
    ")"
   ]
  },
  {
   "cell_type": "markdown",
   "metadata": {},
   "source": [
    "## Retrieval QA Chain"
   ]
  },
  {
   "cell_type": "code",
   "execution_count": 26,
   "metadata": {},
   "outputs": [],
   "source": [
    "qa = RetrievalQA.from_chain_type(\n",
    "    llm=llm,\n",
    "    chain_type='stuff',\n",
    "    retriever=vectorstore.as_retriever()\n",
    ")"
   ]
  },
  {
   "cell_type": "code",
   "execution_count": 27,
   "metadata": {},
   "outputs": [
    {
     "data": {
      "text/plain": [
       "' It is possible that you are having dry cough with breathing trouble due to the coronavirus infection, but it is not the common symptom. It is also possible that the dry cough and breathing trouble could be due to asthma or allergies. It is recommended that you contact your doctor for advice and follow up, and consider getting a chest x-ray if necessary.'"
      ]
     },
     "execution_count": 27,
     "metadata": {},
     "output_type": "execute_result"
    }
   ],
   "source": [
    "qa.run(\"Why am i having dry cough with breathing trouble\")"
   ]
  },
  {
   "cell_type": "markdown",
   "metadata": {},
   "source": [
    "## But this inst yet ready for our covnersational agent.For that we need to convert this retrieval chain into a tool. We do that like so:"
   ]
  },
  {
   "cell_type": "code",
   "execution_count": 34,
   "metadata": {},
   "outputs": [],
   "source": [
    "from langchain.agents import Tool\n",
    "\n",
    "tools = [\n",
    "    Tool(\n",
    "        name = \"knowledge Base\",\n",
    "        func = qa.run,\n",
    "        description = \"use this tool when answering general knowledge queries to get more information about the topic\"\n",
    "    )\n",
    "]"
   ]
  },
  {
   "cell_type": "markdown",
   "metadata": {},
   "source": [
    "## Initialize the agent"
   ]
  },
  {
   "cell_type": "code",
   "execution_count": 32,
   "metadata": {},
   "outputs": [],
   "source": [
    "from langchain.agents import initialize_agent\n",
    "\n",
    "agent = initialize_agent(\n",
    "    agent = \"chat-conversational-react-description\",\n",
    "    tools = tools,\n",
    "    llm = llm,\n",
    "    verbose = True,\n",
    "    max_iterations = 3,\n",
    "    early_stopping_method  = 'generate',\n",
    "    memory = conversational_memory\n",
    ")"
   ]
  },
  {
   "cell_type": "markdown",
   "metadata": {},
   "source": [
    "## Using the Conversational Agent"
   ]
  },
  {
   "cell_type": "code",
   "execution_count": 35,
   "metadata": {},
   "outputs": [
    {
     "name": "stdout",
     "output_type": "stream",
     "text": [
      "\n",
      "\n",
      "\u001b[1m> Entering new AgentExecutor chain...\u001b[0m\n",
      "\u001b[32;1m\u001b[1;3m\n",
      "\n",
      "RESPONSE\n",
      "--------------------\n",
      "```json\n",
      "{\n",
      "    \"action\": \"knowledge Base\",\n",
      "    \"action_input\": \"COVID-19\"\n",
      "}\n",
      "```\u001b[0m\n",
      "Observation: \u001b[36;1m\u001b[1;3m Yes, please call the hotline on 0800 029 999, see the faqs on https://www.gov.za/coronavirus/faq or https://www.who.int/news-room/q-a-detail/q-a-coronaviruses and self-quarantine and monitor yourself for 14 days from return date. If symptoms develop, please contact the NICD for screening to see if you have to get tested.\u001b[0m\n",
      "Thought:\u001b[32;1m\u001b[1;3m\n",
      "\n",
      "AI:\n",
      "\n",
      "RESPONSE\n",
      "--------------------\n",
      "```json\n",
      "{\n",
      "    \"action\": \"Final Answer\",\n",
      "    \"action_input\": \"If you have recently returned from a trip, it is important to self-quarantine and monitor yourself for 14 days from the return date. If any symptoms develop, contact the National Institute for Communicable Diseases (NICD) for screening and to see if you need to get tested for COVID-19.\"\n",
      "}\n",
      "```\u001b[0m\n",
      "\n",
      "\u001b[1m> Finished chain.\u001b[0m\n"
     ]
    },
    {
     "data": {
      "text/plain": [
       "{'input': 'What kind of disease is covid? How can i know that I dont have covid?',\n",
       " 'chat_history': [HumanMessage(content='I am having a dry cough, and high head ache, does it mean I have covid?', additional_kwargs={}, example=False),\n",
       "  AIMessage(content='Based on the information obtained from the knowledge base, common symptoms of COVID-19 include fever, dry cough, fatigue, and loss of taste or smell. Other symptoms may include shortness of breath, body aches, sore throat, headache, diarrhea, and congestion or runny nose.', additional_kwargs={}, example=False)],\n",
       " 'output': 'If you have recently returned from a trip, it is important to self-quarantine and monitor yourself for 14 days from the return date. If any symptoms develop, contact the National Institute for Communicable Diseases (NICD) for screening and to see if you need to get tested for COVID-19.'}"
      ]
     },
     "execution_count": 35,
     "metadata": {},
     "output_type": "execute_result"
    }
   ],
   "source": [
    "agent(\"What kind of disease is covid? How can i know that I dont have covid?\")"
   ]
  },
  {
   "cell_type": "code",
   "execution_count": 36,
   "metadata": {},
   "outputs": [],
   "source": [
    "pinecone.delete_index(index_name)"
   ]
  },
  {
   "cell_type": "code",
   "execution_count": null,
   "metadata": {},
   "outputs": [],
   "source": []
  }
 ],
 "metadata": {
  "kernelspec": {
   "display_name": "Python 3",
   "language": "python",
   "name": "python3"
  },
  "language_info": {
   "codemirror_mode": {
    "name": "ipython",
    "version": 3
   },
   "file_extension": ".py",
   "mimetype": "text/x-python",
   "name": "python",
   "nbconvert_exporter": "python",
   "pygments_lexer": "ipython3",
   "version": "3.9.16"
  },
  "orig_nbformat": 4
 },
 "nbformat": 4,
 "nbformat_minor": 2
}
