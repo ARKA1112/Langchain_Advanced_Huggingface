{
 "cells": [
  {
   "cell_type": "code",
   "execution_count": 1,
   "metadata": {
    "scrolled": true
   },
   "outputs": [
    {
     "data": {
      "application/vnd.jupyter.widget-view+json": {
       "model_id": "66fb3f5a95024effa3f58cf41394a439",
       "version_major": 2,
       "version_minor": 0
      },
      "text/plain": [
       "VBox(children=(HTML(value='<center> <img\\nsrc=https://huggingface.co/front/assets/huggingface_logo-noborder.sv…"
      ]
     },
     "metadata": {},
     "output_type": "display_data"
    }
   ],
   "source": [
    "from huggingface_hub import notebook_login\n",
    "notebook_login()"
   ]
  },
  {
   "cell_type": "code",
   "execution_count": 79,
   "metadata": {
    "scrolled": true
   },
   "outputs": [
    {
     "data": {
      "text/plain": [
       "True"
      ]
     },
     "execution_count": 79,
     "metadata": {},
     "output_type": "execute_result"
    }
   ],
   "source": [
    "import os\n",
    "import dotenv\n",
    "dotenv.load_dotenv()"
   ]
  },
  {
   "cell_type": "code",
   "execution_count": null,
   "metadata": {},
   "outputs": [],
   "source": [
    "#dotenv.set_key(dotenv.find_dotenv(), 'HUGGINGFACE_API_KEY', key)"
   ]
  },
  {
   "cell_type": "code",
   "execution_count": 17,
   "metadata": {},
   "outputs": [],
   "source": [
    "os.environ['HUGGINGFACEHUB_API_TOKEN'] = os.getenv('HUGGINGFACE_API_KEY')"
   ]
  },
  {
   "cell_type": "code",
   "execution_count": 59,
   "metadata": {},
   "outputs": [],
   "source": [
    "# set of langchain imports\n",
    "from langchain import PromptTemplate, HuggingFaceHub, LLMChain\n",
    "\n",
    "chatsalad= HuggingFaceHub(\n",
    "    \n",
    "    repo_id='tiiuae/falcon-7b-instruct',\n",
    "    model_kwargs={'temperature':0.9},verbose=True,\n",
    ")"
   ]
  },
  {
   "cell_type": "code",
   "execution_count": 86,
   "metadata": {},
   "outputs": [],
   "source": [
    "template = \"\"\"Questions: {question}\"\"\"\n",
    "\n",
    "prompt = PromptTemplate(template = template, input_variables=['question'])\n",
    "\n",
    "llm_chain = LLMChain(\n",
    "    prompt = prompt,\n",
    "    llm=chatsalad\n",
    ")"
   ]
  },
  {
   "cell_type": "code",
   "execution_count": 69,
   "metadata": {},
   "outputs": [],
   "source": [
    "# Initialize the set of questions to answer\n",
    "\n",
    "\n",
    "qs = [\n",
    "    {'question': \"Which NFL team won the Super Bowl in the 2010 season?\"},\n",
    "    {'question': \"If I am 6 ft 4 inches, how tall am I in centimeters?\"},\n",
    "    {'question': \"Who was the 12th person on the moon?\"},\n",
    "    {'question': \"How many eyes does a blade of grass have?\"}\n",
    "]\n",
    "\n",
    "response = llm_chain.generate(qs)\n"
   ]
  },
  {
   "cell_type": "code",
   "execution_count": 72,
   "metadata": {},
   "outputs": [],
   "source": [
    "# lets try multitemplate\n",
    "\n",
    "multitemplate = \"\"\"Answert the following questions one at a time\n",
    "Questions:{Questions:}\\n\\nAnswers:\"\"\"\n",
    "\n",
    "prompt = PromptTemplate(\n",
    "    template=multitemplate,\n",
    "    input_variables=['Questions'],\n",
    "\n",
    ")\n",
    "\n",
    "llm_chain = LLMChain(\n",
    "    prompt = prompt,\n",
    "    llm = chatsalad\n",
    ")"
   ]
  },
  {
   "cell_type": "code",
   "execution_count": 74,
   "metadata": {},
   "outputs": [
    {
     "name": "stdout",
     "output_type": "stream",
     "text": [
      "\n",
      "1.ansas City Chiefs\n",
      "2. 179 cm\n",
      "3. Buzz Aldrin\n",
      "4\n"
     ]
    }
   ],
   "source": [
    "qs_str = (\n",
    "    \"Which NFL team won the Super Bowl in the 2010 season?\\n\" +\n",
    "    \"If I am 6 ft 4 inches, how tall am I in centimeters?\\n\" +\n",
    "    \"Who was the 12th person on the moon?\" +\n",
    "    \"How many eyes does a blade of grass have?\"\n",
    ")\n",
    "\n",
    "print(llm_chain.run(qs_str))\n",
    "\n",
    "\n",
    "# Clearly the model returns with errors"
   ]
  },
  {
   "cell_type": "code",
   "execution_count": 104,
   "metadata": {},
   "outputs": [],
   "source": [
    "# Lets try with a good model\n",
    "from langchain.llms import Cohere\n",
    "\n",
    "llm = Cohere(temperature=0.0)"
   ]
  },
  {
   "cell_type": "code",
   "execution_count": 105,
   "metadata": {},
   "outputs": [],
   "source": [
    "llm_chain = LLMChain(\n",
    "    prompt=prompt,\n",
    "    llm=llm\n",
    ")"
   ]
  },
  {
   "cell_type": "code",
   "execution_count": 106,
   "metadata": {},
   "outputs": [
    {
     "data": {
      "text/plain": [
       "[{'question': 'Which NFL team won the Super Bowl in the 2010 season?'},\n",
       " {'question': 'If I am 6 ft 4 inches, how tall am I in centimeters?'},\n",
       " {'question': 'Who was the 12th person on the moon?'},\n",
       " {'question': 'How many eyes does a blade of grass have?'}]"
      ]
     },
     "execution_count": 106,
     "metadata": {},
     "output_type": "execute_result"
    }
   ],
   "source": [
    "qs"
   ]
  },
  {
   "cell_type": "code",
   "execution_count": 107,
   "metadata": {},
   "outputs": [
    {
     "data": {
      "text/plain": [
       "LLMResult(generations=[[Generation(text='\\nThe New Orleans Saints', generation_info=None)], [Generation(text='\\nYou are 193 centimeters tall.', generation_info=None)], [Generation(text='\\nThe 12th person on the moon was Eugene Cernan', generation_info=None)], [Generation(text='\\nA blade of grass has one eye.', generation_info=None)]], llm_output=None, run=[RunInfo(run_id=UUID('11171c5f-1df7-4e4c-9722-af6b18c41b44')), RunInfo(run_id=UUID('57c3e282-6b08-4eaf-9c11-b2b8fa4ac5f5')), RunInfo(run_id=UUID('7d143945-3ca1-4f04-9959-1837d0e55c09')), RunInfo(run_id=UUID('16de0df6-9a9c-412c-aa12-311908a3bca1'))])"
      ]
     },
     "execution_count": 107,
     "metadata": {},
     "output_type": "execute_result"
    }
   ],
   "source": [
    "llm_chain.generate(qs)"
   ]
  },
  {
   "cell_type": "code",
   "execution_count": 108,
   "metadata": {},
   "outputs": [
    {
     "data": {
      "text/plain": [
       "'\\nThe New Orleans Saints won the Super Bowl in the 2010 season.'"
      ]
     },
     "execution_count": 108,
     "metadata": {},
     "output_type": "execute_result"
    }
   ],
   "source": [
    "llm_chain.run(qs_str)"
   ]
  },
  {
   "cell_type": "code",
   "execution_count": null,
   "metadata": {},
   "outputs": [],
   "source": []
  }
 ],
 "metadata": {
  "kernelspec": {
   "display_name": "Python 3",
   "language": "python",
   "name": "python3"
  },
  "language_info": {
   "codemirror_mode": {
    "name": "ipython",
    "version": 3
   },
   "file_extension": ".py",
   "mimetype": "text/x-python",
   "name": "python",
   "nbconvert_exporter": "python",
   "pygments_lexer": "ipython3",
   "version": "3.9.16"
  }
 },
 "nbformat": 4,
 "nbformat_minor": 4
}
