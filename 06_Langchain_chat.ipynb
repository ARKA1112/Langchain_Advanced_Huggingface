{
 "cells": [
  {
   "cell_type": "code",
   "execution_count": 4,
   "metadata": {},
   "outputs": [
    {
     "data": {
      "text/plain": [
       "True"
      ]
     },
     "execution_count": 4,
     "metadata": {},
     "output_type": "execute_result"
    }
   ],
   "source": [
    "import os\n",
    "from dotenv import load_dotenv\n",
    "load_dotenv()"
   ]
  },
  {
   "cell_type": "code",
   "execution_count": 3,
   "metadata": {},
   "outputs": [],
   "source": [
    "from langchain.chat_models import ChatOpenAI"
   ]
  },
  {
   "cell_type": "code",
   "execution_count": 6,
   "metadata": {},
   "outputs": [],
   "source": [
    "chat = ChatOpenAI(openai_api_base=os.environ['OPENAI_REVERSE_PROXY'],\n",
    "                  openai_api_key=os.environ[\"OPENAI_API_KEY\"],\n",
    "                  temperature=0,\n",
    "                  model = 'gpt-3.5-turbo')"
   ]
  },
  {
   "cell_type": "code",
   "execution_count": 9,
   "metadata": {},
   "outputs": [],
   "source": [
    "# Create chat messages to supply to the chat model\n",
    "\n",
    "from langchain.schema import (SystemMessage,HumanMessage,AIMessage)\n",
    "\n",
    "messages = [\n",
    "    SystemMessage(content=\"You ar ea helpful assistant\"),\n",
    "    HumanMessage(content=\"Hello, how is the weather?\"),\n",
    "    AIMessage(content=\"It currenly 32 degress celcius and its raining\"),\n",
    "    HumanMessage(content=\"That is some groggy weather!!\"),\n",
    "    AIMessage(content=\"Yes, it can be quite gloomy and uncomfortable when it's hot and rainy. Is there anything else I can assist you with?\"),\n",
    "    HumanMessage(content=\"Talking of weather, I would like to know more about the weather prediction models, I mean how they predict the weather quite accurately?\")\n",
    "\n",
    "]"
   ]
  },
  {
   "cell_type": "code",
   "execution_count": 10,
   "metadata": {},
   "outputs": [
    {
     "data": {
      "text/plain": [
       "\"Weather prediction models are complex computer algorithms that use mathematical equations to simulate and forecast the behavior of the atmosphere. These models take into account various factors such as temperature, humidity, wind patterns, and atmospheric pressure to predict future weather conditions.\\n\\nThe models are based on the laws of physics and use a technique called numerical weather prediction (NWP). NWP involves dividing the atmosphere into a three-dimensional grid and solving mathematical equations that describe the physical processes occurring within each grid cell. These equations represent the conservation of mass, momentum, and energy, and they are solved iteratively to simulate the evolution of the atmosphere over time.\\n\\nTo initialize the models, meteorologists collect vast amounts of observational data from weather stations, satellites, radars, and other sources. This data is used to create an initial snapshot of the atmosphere's current state, known as the initial conditions. The models then use this information as a starting point and simulate how the atmosphere will evolve over time.\\n\\nHowever, since it is impossible to measure the atmosphere's state with absolute precision, there is always some uncertainty in the initial conditions. This uncertainty, combined with the inherent complexity of the atmosphere, leads to some degree of error in weather predictions. Meteorologists continuously work to improve the models by refining the equations, incorporating more accurate data, and enhancing computational power.\\n\\nIt's important to note that weather prediction models are not infallible, and there can still be uncertainties and limitations in their forecasts. However, advancements in technology and scientific understanding have significantly improved the accuracy of weather predictions over the years.\""
      ]
     },
     "execution_count": 10,
     "metadata": {},
     "output_type": "execute_result"
    }
   ],
   "source": [
    "#pass it to the llm\n",
    "\n",
    "res = chat(messages=messages)\n",
    "res.content"
   ]
  },
  {
   "cell_type": "code",
   "execution_count": 11,
   "metadata": {},
   "outputs": [],
   "source": [
    "# Add the last ai response to the messages\n",
    "\n",
    "messages.append(res)"
   ]
  },
  {
   "cell_type": "code",
   "execution_count": 13,
   "metadata": {},
   "outputs": [],
   "source": [
    "#Now create a new user prompt and then append that to the messages and pass it to the chat\n",
    "\n",
    "prompt = HumanMessage(content=\"Well assume we have to predict the weather on sea. How do we get the initial data from?\")\n",
    "messages.append(prompt)\n",
    "\n",
    "\n",
    "#send it to chat-gpt\n",
    "res = chat(messages=messages)"
   ]
  },
  {
   "cell_type": "markdown",
   "metadata": {},
   "source": [
    "## New Prompt Template"
   ]
  },
  {
   "cell_type": "code",
   "execution_count": 23,
   "metadata": {},
   "outputs": [],
   "source": [
    "# Setup the system message\n",
    "\n",
    "messages = [\n",
    "    SystemMessage(content=(\n",
    "        'You are a helpful assistant. You keep responses to no more than '\n",
    "        '100 words long (including whitespace), and sign off every '\n",
    "        'message with a random name like \"Robot McRobot\" or \"Bot Rob\".'\n",
    "    )),\n",
    "    HumanMessage(content=\"Hi AI, please explan what are the weather models and how these models are used to predict the weather\")\n",
    "]"
   ]
  },
  {
   "cell_type": "code",
   "execution_count": 26,
   "metadata": {},
   "outputs": [
    {
     "name": "stdout",
     "output_type": "stream",
     "text": [
      "length: 621\n",
      "Weather models are complex computer simulations that use mathematical equations to predict how atmospheric conditions will evolve over time. They factor in data like temperature, pressure, humidity, and wind patterns to simulate the atmosphere's behavior. These models help meteorologists forecast weather by projecting future conditions based on current observations. By analyzing various scenarios, models can estimate how weather systems, like storms or fronts, will develop. This aids in generating forecasts for different timeframes and locations, enhancing our understanding of upcoming weather patterns.\n",
      "\n",
      "- Bot Rob\n"
     ]
    }
   ],
   "source": [
    "res = chat(messages)\n",
    "print(f\"length: {len(res.content)}\\n{res.content}\")\n",
    "\n",
    "\n",
    "#Clearly we can see that the openai chat is not at all following the system messages, hence we wil try to use the different promopt templates \n",
    "\n",
    "from langchain.prompts.chat import HumanMessagePromptTemplate, ChatPromptTemplate\n",
    "\n",
    "human_template = HumanMessagePromptTemplate.from_template(\n",
    "    '{input} Can you keep the response to no more than 100 words'+\n",
    "    '(including whitespace), and sign off with a random name like \"Robot ' + 'McRobot\" or \"Bot Rob\".'\n",
    ")\n",
    "\n",
    "\n",
    "#create the human message\n",
    "\n",
    "chat_prompt = ChatPromptTemplate.from_messages([human_template])\n",
    "\n",
    "#format with some input\n",
    "\n",
    "chat_prompt_value = chat_prompt.format_prompt(input=\"I would like to know more about the weather prediction models, I mean how they predict the weather quite accurately?\")"
   ]
  },
  {
   "cell_type": "code",
   "execution_count": 28,
   "metadata": {},
   "outputs": [
    {
     "data": {
      "text/plain": [
       "[HumanMessage(content='I would like to know more about the weather prediction models, I mean how they predict the weather quite accurately? Can you keep the response to no more than 100 words(including whitespace), and sign off with a random name like \"Robot McRobot\" or \"Bot Rob\".', additional_kwargs={}, example=False)]"
      ]
     },
     "execution_count": 28,
     "metadata": {},
     "output_type": "execute_result"
    }
   ],
   "source": [
    "chat_prompt_value.to_messages()"
   ]
  },
  {
   "cell_type": "code",
   "execution_count": 29,
   "metadata": {},
   "outputs": [
    {
     "data": {
      "text/plain": [
       "'Human: I would like to know more about the weather prediction models, I mean how they predict the weather quite accurately? Can you keep the response to no more than 100 words(including whitespace), and sign off with a random name like \"Robot McRobot\" or \"Bot Rob\".'"
      ]
     },
     "execution_count": 29,
     "metadata": {},
     "output_type": "execute_result"
    }
   ],
   "source": [
    "chat_prompt_value.to_string()"
   ]
  },
  {
   "cell_type": "code",
   "execution_count": 34,
   "metadata": {},
   "outputs": [],
   "source": [
    "messages = [\n",
    "    SystemMessage(content=(\n",
    "        'You are a helpful assistant. You keep responses to no more than '\n",
    "        '100 characters long (including whitespace), and sign off every '\n",
    "        'message with a random name like \"Robot McRobot\" or \"Bot Rob\".'\n",
    "    )),\n",
    "    chat_prompt.format_prompt(\n",
    "        input=\"Hi AI, What are weather models, and how weather is predicted?\"\n",
    "    ).to_messages()[0]\n",
    "]\n",
    "\n",
    "\n",
    "res =  chat(messages)\n"
   ]
  },
  {
   "cell_type": "code",
   "execution_count": 35,
   "metadata": {},
   "outputs": [
    {
     "name": "stdout",
     "output_type": "stream",
     "text": [
      "length: 288\n",
      "Weather models are computer simulations that use mathematical equations to predict future weather conditions. They analyze current data like temperature, humidity, and wind to make forecasts. These models help meteorologists understand atmospheric processes and make predictions. Bot Rob.\n"
     ]
    }
   ],
   "source": [
    "print(f\"length: {len(res.content)}\\n{res.content}\")"
   ]
  },
  {
   "cell_type": "code",
   "execution_count": 41,
   "metadata": {},
   "outputs": [
    {
     "data": {
      "text/plain": [
       "ChatPromptValue(messages=[SystemMessage(content='You are a helpful assistant. You keep responses to no more than 50 characters long (including whitespace), and sign off every message with \"- Robot McRobot', additional_kwargs={}), HumanMessage(content='Hi AI, how are you? What are the weather models?', additional_kwargs={}, example=False), AIMessage(content=\"Good! It's physics of small things - Robot McRobot\", additional_kwargs={}, example=False)])"
      ]
     },
     "execution_count": 41,
     "metadata": {},
     "output_type": "execute_result"
    }
   ],
   "source": [
    "#We can also use the prompt templates approach for building and initial system message with a few examples for the chatbot to follow\n",
    "\n",
    "from langchain.prompts.chat import (\n",
    "    SystemMessagePromptTemplate,\n",
    "    AIMessagePromptTemplate\n",
    ")\n",
    "\n",
    "\n",
    "system_template = SystemMessagePromptTemplate.from_template(\n",
    "    'You are a helpful assistant. You keep responses to no more than '\n",
    "    '{character_limit} characters long (including whitespace), and sign '\n",
    "    'off every message with \"- {sign_off}'\n",
    ")\n",
    "human_template = HumanMessagePromptTemplate.from_template(\"{input}\")\n",
    "ai_template = AIMessagePromptTemplate.from_template(\"{response} - {sign_off}\")\n",
    "\n",
    "# create the list of messages\n",
    "chat_prompt = ChatPromptTemplate.from_messages([\n",
    "    system_template,\n",
    "    human_template,\n",
    "    ai_template\n",
    "])\n",
    "# format with required inputs\n",
    "chat_prompt_value = chat_prompt.format_prompt(\n",
    "    character_limit=\"50\", sign_off=\"Robot McRobot\",\n",
    "    input=\"Hi AI, how are you? What is quantum physics?\",\n",
    "    response=\"Good! It's physics of small things\"\n",
    ")\n",
    "chat_prompt_value\n",
    "\n"
   ]
  },
  {
   "cell_type": "code",
   "execution_count": 49,
   "metadata": {},
   "outputs": [
    {
     "name": "stdout",
     "output_type": "stream",
     "text": [
      "length: 82\n",
      "Weather models are simulations. They use math and data to forecast - Robot McRobot\n"
     ]
    }
   ],
   "source": [
    "messages = chat_prompt_value.to_messages()\n",
    "messages.append(HumanMessage(content=\"What are weather models and how are they used to predict the weather\"))\n",
    "\n",
    "res = chat(messages)\n",
    "print(f\"length: {len(res.content)}\\n{res.content}\")\n",
    "#Hence the key is to deliver some examples"
   ]
  },
  {
   "cell_type": "code",
   "execution_count": 50,
   "metadata": {},
   "outputs": [
    {
     "data": {
      "text/plain": [
       "ChatPromptValue(messages=[HumanMessage(content='Okay cool, so who built this models? Answer in less than 50 characters (including whitespace).', additional_kwargs={}, example=False)])"
      ]
     },
     "execution_count": 50,
     "metadata": {},
     "output_type": "execute_result"
    }
   ],
   "source": [
    "from langchain import PromptTemplate\n",
    "\n",
    "human_template = HumanMessagePromptTemplate.from_template('{input} Answer in less than {character_limit} characters (including whitespace).')\n",
    "\n",
    "#create the human message\n",
    "\n",
    "human_prompt = ChatPromptTemplate.from_messages([human_template])\n",
    "\n",
    "#Format with some input\n",
    "\n",
    "human_prompt_value = human_prompt.format_prompt(input=\"Okay cool, so who built this models?\",character_limit = '50')\n",
    "\n",
    "human_prompt_value"
   ]
  },
  {
   "cell_type": "code",
   "execution_count": 51,
   "metadata": {},
   "outputs": [
    {
     "data": {
      "text/plain": [
       "HumanMessage(content='What are weather models and how are they used to predict the weather', additional_kwargs={}, example=False)"
      ]
     },
     "execution_count": 51,
     "metadata": {},
     "output_type": "execute_result"
    }
   ],
   "source": [
    "messages.pop(-1)"
   ]
  },
  {
   "cell_type": "code",
   "execution_count": 53,
   "metadata": {},
   "outputs": [
    {
     "data": {
      "text/plain": [
       "[SystemMessage(content='You are a helpful assistant. You keep responses to no more than 50 characters long (including whitespace), and sign off every message with \"- Robot McRobot', additional_kwargs={}),\n",
       " HumanMessage(content='Hi AI, how are you? What are the weather models?', additional_kwargs={}, example=False),\n",
       " AIMessage(content=\"Good! It's physics of small things - Robot McRobot\", additional_kwargs={}, example=False),\n",
       " HumanMessage(content='How small?', additional_kwargs={}, example=False),\n",
       " HumanMessage(content='What are weather models and how are they used to predict the weather', additional_kwargs={}, example=False),\n",
       " HumanMessage(content='Okay cool, so who built this models? Answer in less than 50 characters (including whitespace).', additional_kwargs={}, example=False),\n",
       " HumanMessage(content='Okay cool, so who built this models? Answer in less than 50 characters (including whitespace).', additional_kwargs={}, example=False)]"
      ]
     },
     "execution_count": 53,
     "metadata": {},
     "output_type": "execute_result"
    }
   ],
   "source": [
    "messages.extend(human_prompt_value.to_messages())\n",
    "messages"
   ]
  },
  {
   "cell_type": "code",
   "execution_count": 54,
   "metadata": {},
   "outputs": [
    {
     "name": "stdout",
     "output_type": "stream",
     "text": [
      "length 45\n",
      "Scientists and meteorologists - Robot McRobot\n"
     ]
    }
   ],
   "source": [
    "res = chat(messages)\n",
    "print(f\"length {len(res.content)}\\n{res.content}\")"
   ]
  },
  {
   "cell_type": "code",
   "execution_count": 55,
   "metadata": {},
   "outputs": [
    {
     "data": {
      "text/plain": [
       "HumanMessage(content='Okay cool , so who created these weather models Answer in less than 50 characters (including whitespace).', additional_kwargs={}, example=False)"
      ]
     },
     "execution_count": 55,
     "metadata": {},
     "output_type": "execute_result"
    }
   ],
   "source": [
    "# Now try this with simple f-strings\n",
    "\n",
    "_input = \"Okay cool , so who created these weather models\"\n",
    "character_limit = 50\n",
    "\n",
    "human_message = HumanMessage(content=(\n",
    "    f\"{_input} Answer in less than {character_limit} characters \"\n",
    "    \"(including whitespace).\"\n",
    "))\n",
    "\n",
    "human_message"
   ]
  },
  {
   "cell_type": "code",
   "execution_count": 56,
   "metadata": {},
   "outputs": [],
   "source": [
    "messages.pop(-1)\n",
    "\n",
    "messages.append(human_message)"
   ]
  },
  {
   "cell_type": "code",
   "execution_count": 57,
   "metadata": {},
   "outputs": [
    {
     "data": {
      "text/plain": [
       "[SystemMessage(content='You are a helpful assistant. You keep responses to no more than 50 characters long (including whitespace), and sign off every message with \"- Robot McRobot', additional_kwargs={}),\n",
       " HumanMessage(content='Hi AI, how are you? What are the weather models?', additional_kwargs={}, example=False),\n",
       " AIMessage(content=\"Good! It's physics of small things - Robot McRobot\", additional_kwargs={}, example=False),\n",
       " HumanMessage(content='How small?', additional_kwargs={}, example=False),\n",
       " HumanMessage(content='What are weather models and how are they used to predict the weather', additional_kwargs={}, example=False),\n",
       " HumanMessage(content='Okay cool, so who built this models? Answer in less than 50 characters (including whitespace).', additional_kwargs={}, example=False),\n",
       " HumanMessage(content='Okay cool , so who created these weather models Answer in less than 50 characters (including whitespace).', additional_kwargs={}, example=False)]"
      ]
     },
     "execution_count": 57,
     "metadata": {},
     "output_type": "execute_result"
    }
   ],
   "source": [
    "messages"
   ]
  },
  {
   "cell_type": "code",
   "execution_count": 58,
   "metadata": {},
   "outputs": [
    {
     "name": "stdout",
     "output_type": "stream",
     "text": [
      "Length: 45\n",
      "Scientists and meteorologists - Robot McRobot\n"
     ]
    }
   ],
   "source": [
    "res = chat(messages)\n",
    "print(f\"Length: {len(res.content)}\\n{res.content}\")"
   ]
  },
  {
   "cell_type": "code",
   "execution_count": null,
   "metadata": {},
   "outputs": [],
   "source": []
  }
 ],
 "metadata": {
  "kernelspec": {
   "display_name": "Python 3",
   "language": "python",
   "name": "python3"
  },
  "language_info": {
   "codemirror_mode": {
    "name": "ipython",
    "version": 3
   },
   "file_extension": ".py",
   "mimetype": "text/x-python",
   "name": "python",
   "nbconvert_exporter": "python",
   "pygments_lexer": "ipython3",
   "version": "3.9.16"
  },
  "orig_nbformat": 4
 },
 "nbformat": 4,
 "nbformat_minor": 2
}
